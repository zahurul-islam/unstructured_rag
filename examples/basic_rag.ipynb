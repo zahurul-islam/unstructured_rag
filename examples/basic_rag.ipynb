{
 "cells": [
  {
   "cell_type": "markdown",
   "metadata": {},
   "source": [
    "# Basic RAG System Example\n",
    "\n",
    "This notebook demonstrates the basic functionality of the Unstructured RAG system. It walks through the complete process of:\n",
    "1. Loading a document\n",
    "2. Processing and chunking the text\n",
    "3. Generating embeddings\n",
    "4. Storing the chunks in Milvus vector database\n",
    "5. Searching for relevant information\n",
    "6. Generating natural language responses\n",
    "\n",
    "By following this notebook, you'll understand how the RAG system works under the hood."
   ]
  },
  {
   "cell_type": "markdown",
   "metadata": {},
   "source": [
    "## Setup\n",
    "\n",
    "First, let's import the necessary modules from the RAG system."
   ]
  },
  {
   "cell_type": "code",
   "execution_count": null,
   "metadata": {},
   "outputs": [],
   "source": [
    "import os\n",
    "import sys\n",
    "\n",
    "# Add parent directory to path\n",
    "sys.path.insert(0, os.path.abspath(os.path.join(os.getcwd(), \"..\")))\n",
    "\n",
    "from app.config import config\n",
    "from rag.data_ingestion.loader import load_document\n",
    "from rag.processing.chunker import chunk_text\n",
    "from rag.processing.embedder import get_embedder\n",
    "from rag.retrieval.milvus_client import get_milvus_client, store_chunks\n",
    "from rag.retrieval.search import search_documents\n",
    "from rag.generation.response import generate_response"
   ]
  },
  {
   "cell_type": "markdown",
   "metadata": {},
   "source": [
    "## Loading and Processing a Document\n",
    "\n",
    "Let's load a document and process it."
   ]
  },
  {
   "cell_type": "code",
   "execution_count": null,
   "metadata": {},
   "outputs": [],
   "source": [
    "# Define document path - using one of the existing PDF files in the data directory\n",
    "# You can replace this with any PDF, TXT, DOCX, or HTML file you want to process\n",
    "document_path = \"../data/documents/0bfbe0a3-49e9-4a44-9e4c-84f261f0b4b7.pdf\"\n",
    "\n",
    "# If the file doesn't exist, you can use any PDF file you have available\n",
    "if not os.path.exists(document_path):\n",
    "    print(f\"File {document_path} not found. Please update the path to an existing document.\")\n",
    "    # You can list available documents in the data directory\n",
    "    print(\"\\nAvailable documents:\")\n",
    "    for file in os.listdir(\"../data/documents\"):\n",
    "        if file.endswith(\".pdf\") or file.endswith(\".txt\") or file.endswith(\".docx\"):\n",
    "            print(f\"../data/documents/{file}\")\n",
    "else:\n",
    "    # Load document\n",
    "    text, metadata = load_document(document_path)\n",
    "    \n",
    "    print(f\"Document loaded: {metadata.get('file_name')}\")\n",
    "    print(f\"Text length: {len(text)} characters\")\n",
    "    print(f\"Document type: {metadata.get('file_type', 'unknown')}\")\n",
    "    print(f\"\\nMetadata: {metadata}\")"
   ]
  },
  {
   "cell_type": "markdown",
   "metadata": {},
   "source": [
    "## Chunking the Document\n",
    "\n",
    "Now, let's split the document into chunks."
   ]
  },
  {
   "cell_type": "code",
   "execution_count": null,
   "metadata": {},
   "outputs": [],
   "source": [
    "# Chunk text\n",
    "chunks = chunk_text(text)\n",
    "\n",
    "print(f\"Document split into {len(chunks)} chunks\")\n",
    "print(f\"\\nSample chunk:\\n{chunks[0].text[:200]}...\")"
   ]
  },
  {
   "cell_type": "markdown",
   "metadata": {},
   "source": [
    "## Generating Embeddings\n",
    "\n",
    "Let's generate embeddings for the chunks."
   ]
  },
  {
   "cell_type": "code",
   "execution_count": null,
   "metadata": {},
   "outputs": [],
   "source": [
    "# Get embedder\n",
    "embedder = get_embedder()\n",
    "\n",
    "# Generate embeddings\n",
    "embedder.embed_chunks(chunks)\n",
    "\n",
    "print(f\"Embeddings generated for {len(chunks)} chunks\")\n",
    "print(f\"Embedding dimension: {len(chunks[0].embedding)}\")"
   ]
  },
  {
   "cell_type": "markdown",
   "metadata": {},
   "source": [
    "## Storing Chunks in Milvus\n",
    "\n",
    "Now, let's store the chunks in Milvus."
   ]
  },
  {
   "cell_type": "code",
   "execution_count": null,
   "metadata": {},
   "outputs": [],
   "source": [
    "# Get document ID\n",
    "doc_id = os.path.basename(document_path)\n",
    "doc_name = metadata.get(\"file_name\", doc_id)\n",
    "\n",
    "# Store chunks\n",
    "store_chunks(chunks, doc_id, doc_name, embedder)\n",
    "\n",
    "print(f\"Chunks stored in Milvus collection: {config.milvus.collection}\")"
   ]
  },
  {
   "cell_type": "markdown",
   "metadata": {},
   "source": [
    "## Searching for Information\n",
    "\n",
    "Let's search for information in the document."
   ]
  },
  {
   "cell_type": "code",
   "execution_count": null,
   "metadata": {},
   "outputs": [],
   "source": [
    "# Define a query - this will search across all documents in the vector database\n",
    "query = \"What is the main topic of this document?\"\n",
    "\n",
    "# Search for relevant chunks\n",
    "results = search_documents(query)\n",
    "\n",
    "print(f\"Query: '{query}'\")\n",
    "print(f\"Found {len(results)} relevant chunks\")\n",
    "\n",
    "# Display the top 3 results with their relevance scores\n",
    "for i, result in enumerate(results[:3]):\n",
    "    print(f\"\\nResult {i+1} (Score: {result.score:.4f})\")\n",
    "    print(f\"Document: {result.metadata.get('document_name', 'Unknown')}\")\n",
    "    print(f\"Text: {result.text[:200]}...\")"
   ]
  },
  {
   "cell_type": "markdown",
   "metadata": {},
   "source": [
    "## Generating a Response\n",
    "\n",
    "Finally, let's generate a response to the query."
   ]
  },
  {
   "cell_type": "code",
   "execution_count": null,
   "metadata": {},
   "outputs": [],
   "source": [
    "# Generate response\n",
    "response = generate_response(query, results)\n",
    "\n",
    "print(f\"Query: {query}\")\n",
    "print(f\"\\nResponse:\\n{response}\")"
   ]
  },
  {
   "cell_type": "markdown",
   "metadata": {},
   "source": [
    "## Try Another Query\n",
    "\n",
    "Let's try another query."
   ]
  },
  {
   "cell_type": "code",
   "execution_count": null,
   "metadata": {},
   "outputs": [],
   "source": [
    "# Define another query - try asking about specific information in your documents\n",
    "query = \"What information is available about LLMs or Large Language Models?\"\n",
    "\n",
    "# Search and generate response\n",
    "results = search_documents(query)\n",
    "response = generate_response(query, results)\n",
    "\n",
    "print(f\"Query: {query}\")\n",
    "print(f\"\\nResponse:\\n{response}\")\n",
    "\n",
    "# You can try other queries related to your documents\n",
    "# For example:\n",
    "# - \"What are the main features of the RAG system?\"\n",
    "# - \"How does vector search work?\"\n",
    "# - \"Explain the document processing pipeline\"\n",
    "# - \"What are the advantages of using Milvus for vector storage?\""
   ]
  }
 ],
 "metadata": {
  "kernelspec": {
   "display_name": "Python 3",
   "language": "python",
   "name": "python3"
  },
  "language_info": {
   "codemirror_mode": {
    "name": "ipython",
    "version": 3
   },
   "file_extension": ".py",
   "mimetype": "text/x-python",
   "name": "python",
   "nbconvert_exporter": "python",
   "pygments_lexer": "ipython3",
   "version": "3.10.12"
  }
 },
 "nbformat": 4,
 "nbformat_minor": 4
}
